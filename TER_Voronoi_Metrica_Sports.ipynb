{
  "nbformat": 4,
  "nbformat_minor": 0,
  "metadata": {
    "colab": {
      "provenance": []
    },
    "kernelspec": {
      "name": "python3",
      "display_name": "Python 3"
    },
    "language_info": {
      "name": "python"
    }
  },
  "cells": [
    {
      "cell_type": "code",
      "source": [
        "#!pip install imageio.v3\n",
        "#!pip install mplsoccer\n",
        "\n",
        "# Import statements\n",
        "import os\n",
        "import numpy as np\n",
        "import pandas as pd\n",
        "from matplotlib import animation, patches, pyplot as plt\n",
        "from mplsoccer import Pitch\n",
        "import imageio.v3 as imageio"
      ],
      "metadata": {
        "id": "uBt4fSEuXnJ7"
      },
      "execution_count": null,
      "outputs": []
    },
    {
      "cell_type": "code",
      "source": [
        "# Params\n",
        "GAME_DURATION_SECONDS = 180\n",
        "START_TIME = 0\n",
        "FRAME_INCREMENT = 5\n",
        "PITCH_WIDTH = 68\n",
        "PITCH_LENGTH = 105\n",
        "HALF_PITCH = True"
      ],
      "metadata": {
        "id": "fmH-CBJCXppZ"
      },
      "execution_count": null,
      "outputs": []
    },
    {
      "cell_type": "code",
      "source": [
        "# Function to load data\n",
        "def load_data(link):\n",
        "    df = pd.read_csv(link, skiprows=2)\n",
        "    df.sort_values('Time [s]', inplace=True)\n",
        "    return df\n",
        "\n",
        "# Load data\n",
        "link_away = ('https://raw.githubusercontent.com/metrica-sports/sample-data/master/'\n",
        "             'data/Sample_Game_1/Sample_Game_1_RawTrackingData_Away_Team.csv')\n",
        "link_home = ('https://raw.githubusercontent.com/metrica-sports/sample-data/master/'\n",
        "             'data/Sample_Game_1/Sample_Game_1_RawTrackingData_Home_Team.csv')\n",
        "df_away = load_data(link_away)\n",
        "df_home = load_data(link_home)\n",
        "\n",
        "#display(df_away)\n",
        "\n",
        "\n",
        "# Reset column names\n",
        "def set_col_names(df):\n",
        "    \"\"\"Renames the columns to have x and y suffixes.\"\"\"\n",
        "    cols = list(np.repeat(df.columns[3::2], 2))\n",
        "    cols = [col+'_x' if i % 2 == 0 else col+'_y' for i, col in enumerate(cols)]\n",
        "    cols = np.concatenate([df.columns[:3], cols])\n",
        "    df.columns = cols\n",
        "\n",
        "set_col_names(df_away)\n",
        "set_col_names(df_home)\n",
        "\n",
        "# Subset data\n",
        "end_time = START_TIME + GAME_DURATION_SECONDS\n",
        "df_away = df_away[(df_away['Time [s]'] >= START_TIME) & (df_away['Time [s]'] < end_time)].copy()\n",
        "df_home = df_home[(df_home['Time [s]'] >= START_TIME) & (df_home['Time [s]'] < end_time)].copy()\n",
        "\n",
        "# Split off ball data\n",
        "df_ball = df_away[['Period', 'Frame', 'Time [s]', 'Ball_x', 'Ball_y']].copy()\n",
        "df_home.drop(['Ball_x', 'Ball_y'], axis=1, inplace=True)\n",
        "df_away.drop(['Ball_x', 'Ball_y'], axis=1, inplace=True)\n",
        "df_ball.rename({'Ball_x': 'x', 'Ball_y': 'y'}, axis=1, inplace=True)\n",
        "\n",
        "# Convert to long form\n",
        "def to_long_form(df):\n",
        "    \"\"\"Pivots a dataframe from wide-form to long form.\"\"\"\n",
        "    df = pd.melt(df, id_vars=df.columns[:3], value_vars=df.columns[3:], var_name='player')\n",
        "    df.loc[df.player.str.contains('_x'), 'coordinate'] = 'x'\n",
        "    df.loc[df.player.str.contains('_y'), 'coordinate'] = 'y'\n",
        "    df = df.dropna(axis=0, how='any')\n",
        "    df['player'] = df.player.str[6:-2]\n",
        "    df = (df.set_index(['Period', 'Frame', 'Time [s]', 'player', 'coordinate'])['value']\n",
        "          .unstack()\n",
        "          .reset_index()\n",
        "          .rename_axis(None, axis=1))\n",
        "    return df\n",
        "\n",
        "df_away = to_long_form(df_away)\n",
        "df_home = to_long_form(df_home)\n",
        "\n",
        "# Drop off unnecessary columns\n",
        "df_home.drop(['Period', 'Time [s]', 'player'], axis=1, inplace=True)\n",
        "df_away.drop(['Period', 'Time [s]', 'player'], axis=1, inplace=True)\n",
        "df_ball.drop(['Period', 'Time [s]'], axis=1, inplace=True)\n",
        "\n",
        "#display(df_away)\n",
        "#display(df_ball)\n",
        "\n",
        "# Filter out duplicate rows and decide which ones to plot with FRAME_INCREMENT\n",
        "frames = list(set(df_away.Frame))\n",
        "frames = frames[::FRAME_INCREMENT]\n",
        "\n",
        "filenames = []\n"
      ],
      "metadata": {
        "id": "SkIlG6RHXtf7"
      },
      "execution_count": null,
      "outputs": []
    },
    {
      "cell_type": "code",
      "source": [
        "def invert_coordinates(away_coordinates, home_coordinates, ball_coordinates):\n",
        "    away_coordinates['x'] = 1 - away_coordinates['x']\n",
        "    home_coordinates['x'] = 1 - home_coordinates['x']\n",
        "    ball_coordinates['x'] = 1 - ball_coordinates['x']\n",
        "\n",
        "    return away_coordinates, home_coordinates, ball_coordinates\n",
        "\n",
        "def segment_pitch(away_coordinates, home_coordinates, ball_coordinates):\n",
        "    away_team_in_opposite_side_count = (away_coordinates['x'] < 0.5).sum()\n",
        "    home_team_in_opposite_side_count = (home_coordinates['x'] > 0.5).sum()\n",
        "\n",
        "    if away_team_in_opposite_side_count > home_team_in_opposite_side_count:\n",
        "        print(\"Away team opposite side count:\", away_team_in_opposite_side_count,\\\n",
        "              \"; Home team opposite side count:\", home_team_in_opposite_side_count)\n",
        "        return invert_coordinates(away_coordinates, home_coordinates, ball_coordinates)\n",
        "\n",
        "    return away_coordinates, home_coordinates, ball_coordinates"
      ],
      "metadata": {
        "id": "enxgjAHuX1qs"
      },
      "execution_count": null,
      "outputs": []
    },
    {
      "cell_type": "code",
      "source": [
        "p = Pitch(pitch_type='metricasports', goal_type='line', half=HALF_PITCH,\n",
        "          pitch_width=PITCH_WIDTH, pitch_length=PITCH_LENGTH,\n",
        "          pad_left=None, pad_right=None, pad_bottom=None, pad_top=None,\n",
        "          line_color=None, goal_alpha=0, line_alpha=0)\n",
        "\n",
        "\n",
        "for frame in frames:\n",
        "    fig, ax = p.draw()\n",
        "\n",
        "    away_coordinates = df_away[df_away.Frame == frame]\n",
        "    home_coordinates = df_home[df_home.Frame == frame]\n",
        "    ball_coordinates = df_ball[df_ball.Frame == frame]\n",
        "\n",
        "    away_coordinates, home_coordinates, ball_coordinates = \\\n",
        "        segment_pitch(away_coordinates, home_coordinates, ball_coordinates)\n",
        "\n",
        "    player_coordinates = pd.concat([away_coordinates, home_coordinates])\n",
        "\n",
        "    # Plot Voronoi\n",
        "    team1, team2 = p.voronoi(player_coordinates.x, player_coordinates.y,\n",
        "                              [0]*11 + [1]*11)\n",
        "\n",
        "    t1 = p.polygon(team1, ax=ax, fc='orange', ec='black', lw=0, alpha=1)\n",
        "    t2 = p.polygon(team2, ax=ax, fc='dodgerblue', ec='black', lw=0, alpha=1)\n",
        "\n",
        "    # Plot players\n",
        "    #sc1 = p.scatter(away_coordinates.x, away_coordinates.y, c='dodgerblue', s=80, ec='k', ax=ax)\n",
        "    #sc2 = p.scatter(home_coordinates.x, home_coordinates.y, c='orange', s=80, ec='k', ax=ax)\n",
        "\n",
        "    # Plot ball\n",
        "    #sc3 = p.scatter(ball_coordinates.x, ball_coordinates.y, c='white', s=30, ec='k', ax=ax)\n",
        "\n",
        "    # Create file name and append it to a list\n",
        "    filename = f'/content/drive/MyDrive/Master 1/Projet TER/Images/Metrica Sports/Full Pitch/voronoi_{frame}.png'\n",
        "    filenames.append(filename)\n",
        "\n",
        "    # Save frame\n",
        "    #plt.savefig(filename, bbox_inches='tight', pad_inches=0)\n",
        "    #plt.close()\n",
        "\n",
        "\n"
      ],
      "metadata": {
        "id": "fYnbz-fa2NnU"
      },
      "execution_count": null,
      "outputs": []
    },
    {
      "cell_type": "code",
      "source": [
        "# Remove image files on drive\n",
        "for filename in set(filenames):\n",
        "    os.remove(filename)"
      ],
      "metadata": {
        "id": "MXBLC6-L9nTT"
      },
      "execution_count": null,
      "outputs": []
    },
    {
      "cell_type": "code",
      "source": [
        "def generate_gif(filenames):\n",
        "    # Generates a gif from the pre-generated temp images.\n",
        "    # Build gif\n",
        "    gif_name = f'Voronoi_{START_TIME}_{GAME_DURATION_SECONDS}_{FRAME_INCREMENT}.gif'\n",
        "    images = []\n",
        "    for filename in filenames:\n",
        "       images.append(imageio.imread(filename))\n",
        "    imageio.imwrite(gif_name, images, loop=0)\n",
        "\n",
        "    # Remove temp image files\n",
        "    for filename in set(filenames):\n",
        "        os.remove(filename)\n",
        "\n",
        "\n",
        "#generate_gif(filenames)"
      ],
      "metadata": {
        "id": "2DnSllhwUFw4"
      },
      "execution_count": null,
      "outputs": []
    },
    {
      "cell_type": "code",
      "source": [
        "# TESTS\n",
        "\n",
        "print(away_coordinates)\n",
        "away_coordinates.x = away_coordinates.x.map(lambda x: 1-x)\n",
        "print(away_coordinates)\n",
        "print(away_coordinates.x)\n",
        "print(away_coordinates['x'])\n"
      ],
      "metadata": {
        "colab": {
          "base_uri": "https://localhost:8080/"
        },
        "id": "qPDmOgXsiqSe",
        "outputId": "4343fade-1836-41be-8e3a-563ec7425715"
      },
      "execution_count": null,
      "outputs": [
        {
          "output_type": "stream",
          "name": "stdout",
          "text": [
            "       Frame        x        y\n",
            "16555   1506  0.03437  0.28076\n",
            "16556   1506  0.04796  0.38787\n",
            "16557   1506  0.06597  0.47996\n",
            "16558   1506  0.07699  0.33265\n",
            "16559   1506  0.11313  0.41659\n",
            "16560   1506  0.09116  0.49120\n",
            "16561   1506  0.22736  0.54963\n",
            "16562   1506  0.18101  0.58370\n",
            "16563   1506  0.35980  0.55805\n",
            "16564   1506  0.37221  0.43667\n",
            "16565   1506  0.01806  0.44883\n",
            "       Frame        x        y\n",
            "16555   1506  0.96563  0.28076\n",
            "16556   1506  0.95204  0.38787\n",
            "16557   1506  0.93403  0.47996\n",
            "16558   1506  0.92301  0.33265\n",
            "16559   1506  0.88687  0.41659\n",
            "16560   1506  0.90884  0.49120\n",
            "16561   1506  0.77264  0.54963\n",
            "16562   1506  0.81899  0.58370\n",
            "16563   1506  0.64020  0.55805\n",
            "16564   1506  0.62779  0.43667\n",
            "16565   1506  0.98194  0.44883\n",
            "16555    0.96563\n",
            "16556    0.95204\n",
            "16557    0.93403\n",
            "16558    0.92301\n",
            "16559    0.88687\n",
            "16560    0.90884\n",
            "16561    0.77264\n",
            "16562    0.81899\n",
            "16563    0.64020\n",
            "16564    0.62779\n",
            "16565    0.98194\n",
            "Name: x, dtype: float64\n",
            "16555    0.96563\n",
            "16556    0.95204\n",
            "16557    0.93403\n",
            "16558    0.92301\n",
            "16559    0.88687\n",
            "16560    0.90884\n",
            "16561    0.77264\n",
            "16562    0.81899\n",
            "16563    0.64020\n",
            "16564    0.62779\n",
            "16565    0.98194\n",
            "Name: x, dtype: float64\n"
          ]
        },
        {
          "output_type": "stream",
          "name": "stderr",
          "text": [
            "<ipython-input-64-7d38383170bb>:2: SettingWithCopyWarning: \n",
            "A value is trying to be set on a copy of a slice from a DataFrame.\n",
            "Try using .loc[row_indexer,col_indexer] = value instead\n",
            "\n",
            "See the caveats in the documentation: https://pandas.pydata.org/pandas-docs/stable/user_guide/indexing.html#returning-a-view-versus-a-copy\n",
            "  away_coordinates.x = away_coordinates.x.map(lambda x: 1-x)\n"
          ]
        }
      ]
    },
    {
      "cell_type": "code",
      "source": [],
      "metadata": {
        "id": "qiIeHk0onCAA"
      },
      "execution_count": null,
      "outputs": []
    }
  ]
}